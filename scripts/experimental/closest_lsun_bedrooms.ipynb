{
 "cells": [
  {
   "cell_type": "code",
   "execution_count": 1,
   "metadata": {},
   "outputs": [],
   "source": [
    "import json\n",
    "from PIL import Image as ImagePIL\n",
    "import os\n",
    "from datasets import load_dataset\n",
    "from IPython.display import Image \n",
    "import tqdm\n",
    "import pdb"
   ]
  },
  {
   "cell_type": "code",
   "execution_count": 2,
   "metadata": {},
   "outputs": [],
   "source": [
    "closest_data = json.load(open(\"/projectnb/ivc-ml/array/research/robotics/dreamworlds/scripts/experimental/closest_lsun_ai2thor.json\"))"
   ]
  },
  {
   "cell_type": "code",
   "execution_count": 3,
   "metadata": {},
   "outputs": [],
   "source": [
    "lsun_dataset = load_dataset(\"pcuenq/lsun-bedrooms\")['train']"
   ]
  },
  {
   "cell_type": "code",
   "execution_count": 4,
   "metadata": {},
   "outputs": [],
   "source": [
    "closest_dict = {}\n",
    "for ind, im_name, dist in closest_data:\n",
    "    closest_dict[ind] = (im_name, dist)"
   ]
  },
  {
   "cell_type": "code",
   "execution_count": 5,
   "metadata": {},
   "outputs": [
    {
     "name": "stderr",
     "output_type": "stream",
     "text": [
      "  0%|          | 0/287968 [00:00<?, ?it/s]\n"
     ]
    },
    {
     "ename": "AttributeError",
     "evalue": "type object 'Image' has no attribute 'open'",
     "output_type": "error",
     "traceback": [
      "\u001b[0;31m---------------------------------------------------------------------------\u001b[0m",
      "\u001b[0;31mAttributeError\u001b[0m                            Traceback (most recent call last)",
      "Cell \u001b[0;32mIn[5], line 8\u001b[0m\n\u001b[1;32m      4\u001b[0m bedroom_im \u001b[38;5;241m=\u001b[39m entry[\u001b[38;5;124m\"\u001b[39m\u001b[38;5;124mimage\u001b[39m\u001b[38;5;124m\"\u001b[39m]\n\u001b[1;32m      6\u001b[0m closest_im, dist \u001b[38;5;241m=\u001b[39m closest_dict[ind]\n\u001b[0;32m----> 8\u001b[0m closest_im \u001b[38;5;241m=\u001b[39m \u001b[43mImage\u001b[49m\u001b[38;5;241;43m.\u001b[39;49m\u001b[43mopen\u001b[49m(os\u001b[38;5;241m.\u001b[39mpath\u001b[38;5;241m.\u001b[39mjoin(\u001b[38;5;124m\"\u001b[39m\u001b[38;5;124m/projectnb/ivc-ml/array/research/robotics/ProcTHOR/vis/ai2thor_windowadded/train\u001b[39m\u001b[38;5;124m\"\u001b[39m, closest_im))\n\u001b[1;32m     11\u001b[0m display(bedroom_im)\n\u001b[1;32m     12\u001b[0m display(closest_im)\n",
      "\u001b[0;31mAttributeError\u001b[0m: type object 'Image' has no attribute 'open'"
     ]
    }
   ],
   "source": [
    "count = 0\n",
    "\n",
    "for ind, entry in enumerate(tqdm.tqdm(lsun_dataset)):\n",
    "    bedroom_im = entry[\"image\"]\n",
    "\n",
    "    closest_im, dist = closest_dict[ind]\n",
    "\n",
    "    closest_im = ImagePIL.open(os.path.join(\"/projectnb/ivc-ml/array/research/robotics/ProcTHOR/vis/ai2thor_windowadded/train\", closest_im))\n",
    "\n",
    "    \n",
    "    display(bedroom_im)\n",
    "    display(closest_im)\n",
    "    \n",
    "    pdb.set_trace()\n"
   ]
  },
  {
   "cell_type": "code",
   "execution_count": null,
   "metadata": {},
   "outputs": [],
   "source": []
  }
 ],
 "metadata": {
  "kernelspec": {
   "display_name": "genAI_design",
   "language": "python",
   "name": "python3"
  },
  "language_info": {
   "codemirror_mode": {
    "name": "ipython",
    "version": 3
   },
   "file_extension": ".py",
   "mimetype": "text/x-python",
   "name": "python",
   "nbconvert_exporter": "python",
   "pygments_lexer": "ipython3",
   "version": "3.10.13"
  }
 },
 "nbformat": 4,
 "nbformat_minor": 2
}
