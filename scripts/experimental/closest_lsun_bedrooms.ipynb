{
 "cells": [
  {
   "cell_type": "code",
   "execution_count": 1,
   "metadata": {},
   "outputs": [
    {
     "name": "stderr",
     "output_type": "stream",
     "text": [
      "/projectnb/ivc-ml/array/miniconda3/envs/llava/lib/python3.10/site-packages/tqdm/auto.py:21: TqdmWarning: IProgress not found. Please update jupyter and ipywidgets. See https://ipywidgets.readthedocs.io/en/stable/user_install.html\n",
      "  from .autonotebook import tqdm as notebook_tqdm\n"
     ]
    }
   ],
   "source": [
    "import json\n",
    "from PIL import Image\n",
    "import os\n",
    "from datasets import load_dataset\n",
    "from IPython.display import Image \n",
    "import tqdm\n",
    "import pdb"
   ]
  },
  {
   "cell_type": "code",
   "execution_count": 2,
   "metadata": {},
   "outputs": [],
   "source": [
    "closest_data = json.load(open(\"/projectnb/ivc-ml/array/research/robotics/dreamworlds/scripts/experimental/closest_lsun_ai2thor.json\"))"
   ]
  },
  {
   "cell_type": "code",
   "execution_count": 3,
   "metadata": {},
   "outputs": [],
   "source": [
    "lsun_dataset = load_dataset(\"pcuenq/lsun-bedrooms\")['train']"
   ]
  },
  {
   "cell_type": "code",
   "execution_count": 4,
   "metadata": {},
   "outputs": [],
   "source": [
    "closest_dict = {}\n",
    "for ind, im_name, dist in closest_data:\n",
    "    closest_dict[ind] = (im_name, dist)"
   ]
  },
  {
   "cell_type": "code",
   "execution_count": 5,
   "metadata": {},
   "outputs": [
    {
     "name": "stderr",
     "output_type": "stream",
     "text": [
      "  0%|          | 0/287968 [00:00<?, ?it/s]"
     ]
    },
    {
     "name": "stderr",
     "output_type": "stream",
     "text": [
      "  0%|          | 0/287968 [00:00<?, ?it/s]\n"
     ]
    },
    {
     "ename": "AttributeError",
     "evalue": "type object 'Image' has no attribute 'open'",
     "output_type": "error",
     "traceback": [
      "\u001b[0;31m---------------------------------------------------------------------------\u001b[0m",
      "\u001b[0;31mAttributeError\u001b[0m                            Traceback (most recent call last)",
      "\u001b[1;32m/projectnb/ivc-ml/array/research/robotics/dreamworlds/scripts/experimental/closest_lsun_bedrooms.ipynb Cell 5\u001b[0m line \u001b[0;36m8\n\u001b[1;32m      <a href='vscode-notebook-cell://ssh-remote%2Bscc2.bu.edu/projectnb/ivc-ml/array/research/robotics/dreamworlds/scripts/experimental/closest_lsun_bedrooms.ipynb#W4sdnNjb2RlLXJlbW90ZQ%3D%3D?line=3'>4</a>\u001b[0m bedroom_im \u001b[39m=\u001b[39m entry[\u001b[39m\"\u001b[39m\u001b[39mimage\u001b[39m\u001b[39m\"\u001b[39m]\n\u001b[1;32m      <a href='vscode-notebook-cell://ssh-remote%2Bscc2.bu.edu/projectnb/ivc-ml/array/research/robotics/dreamworlds/scripts/experimental/closest_lsun_bedrooms.ipynb#W4sdnNjb2RlLXJlbW90ZQ%3D%3D?line=5'>6</a>\u001b[0m closest_im, dist \u001b[39m=\u001b[39m closest_dict[ind]\n\u001b[0;32m----> <a href='vscode-notebook-cell://ssh-remote%2Bscc2.bu.edu/projectnb/ivc-ml/array/research/robotics/dreamworlds/scripts/experimental/closest_lsun_bedrooms.ipynb#W4sdnNjb2RlLXJlbW90ZQ%3D%3D?line=7'>8</a>\u001b[0m closest_im \u001b[39m=\u001b[39m Image\u001b[39m.\u001b[39;49mopen(os\u001b[39m.\u001b[39mpath\u001b[39m.\u001b[39mjoin(\u001b[39m\"\u001b[39m\u001b[39m/projectnb/ivc-ml/array/research/robotics/ProcTHOR/vis/ai2thor_windowadded/train\u001b[39m\u001b[39m\"\u001b[39m, closest_im))\n\u001b[1;32m     <a href='vscode-notebook-cell://ssh-remote%2Bscc2.bu.edu/projectnb/ivc-ml/array/research/robotics/dreamworlds/scripts/experimental/closest_lsun_bedrooms.ipynb#W4sdnNjb2RlLXJlbW90ZQ%3D%3D?line=10'>11</a>\u001b[0m display(bedroom_im)\n\u001b[1;32m     <a href='vscode-notebook-cell://ssh-remote%2Bscc2.bu.edu/projectnb/ivc-ml/array/research/robotics/dreamworlds/scripts/experimental/closest_lsun_bedrooms.ipynb#W4sdnNjb2RlLXJlbW90ZQ%3D%3D?line=11'>12</a>\u001b[0m display(closest_im)\n",
      "\u001b[0;31mAttributeError\u001b[0m: type object 'Image' has no attribute 'open'"
     ]
    }
   ],
   "source": [
    "count = 0\n",
    "\n",
    "for ind, entry in enumerate(tqdm.tqdm(lsun_dataset)):\n",
    "    bedroom_im = entry[\"image\"]\n",
    "\n",
    "    closest_im, dist = closest_dict[ind]\n",
    "\n",
    "    closest_im = Image.open(os.path.join(\"/projectnb/ivc-ml/array/research/robotics/ProcTHOR/vis/ai2thor_windowadded/train\", closest_im))\n",
    "\n",
    "    \n",
    "    display(bedroom_im)\n",
    "    display(closest_im)\n",
    "    \n",
    "    pdb.set_trace()\n"
   ]
  },
  {
   "cell_type": "code",
   "execution_count": null,
   "metadata": {},
   "outputs": [],
   "source": []
  }
 ],
 "metadata": {
  "kernelspec": {
   "display_name": "genAI_design",
   "language": "python",
   "name": "python3"
  },
  "language_info": {
   "codemirror_mode": {
    "name": "ipython",
    "version": 3
   },
   "file_extension": ".py",
   "mimetype": "text/x-python",
   "name": "python",
   "nbconvert_exporter": "python",
   "pygments_lexer": "ipython3",
   "version": "3.10.13"
  }
 },
 "nbformat": 4,
 "nbformat_minor": 2
}
